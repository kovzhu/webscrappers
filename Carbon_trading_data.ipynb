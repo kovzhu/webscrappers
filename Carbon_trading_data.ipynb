{
  "nbformat": 4,
  "nbformat_minor": 0,
  "metadata": {
    "colab": {
      "name": "Carbon trading data.ipynb",
      "provenance": [],
      "collapsed_sections": [],
      "toc_visible": true,
      "authorship_tag": "ABX9TyNE6mEdSpNvMwwmTV0ll9bK",
      "include_colab_link": true
    },
    "kernelspec": {
      "name": "python3",
      "display_name": "Python 3"
    },
    "language_info": {
      "name": "python"
    }
  },
  "cells": [
    {
      "cell_type": "markdown",
      "metadata": {
        "id": "view-in-github",
        "colab_type": "text"
      },
      "source": [
        "<a href=\"https://colab.research.google.com/github/kovzhu/webscrappers/blob/master/Carbon_trading_data.ipynb\" target=\"_parent\"><img src=\"https://colab.research.google.com/assets/colab-badge.svg\" alt=\"Open In Colab\"/></a>"
      ]
    },
    {
      "cell_type": "code",
      "metadata": {
        "colab": {
          "base_uri": "https://localhost:8080/",
          "height": 17
        },
        "id": "5ozbfWtfM9kL",
        "outputId": "44df3565-0359-4795-cba3-7234f193a425"
      },
      "source": [
        "import pandas as pd \n",
        "# import numpy as np \n",
        "# import matplotlib.pyplot as plt \n",
        "import requests\n",
        "import re\n",
        "import time\n",
        "from bs4 import BeautifulSoup as bs\n",
        "from datetime import datetime\n",
        "from google.colab import files\n",
        "\n",
        "\n",
        "def make_soup(url, payload):\n",
        "    # parse a html page for analysi with bs4\n",
        "    headers = {\n",
        "        'User-Agent': 'Mozilla/5.0 (Macintosh; Intel Mac OS X 10_15_4) AppleWebKit/537.36 (KHTML, like Gecko) Chrome/81.0.4044.129 Safari/537.36'}\n",
        "    cookies = {\n",
        "        'Cookie': 'BAIDUID=A467EBC2C2D0C1F5CE71C86F2D851B89:FG=1; PSTM=1569895226; BIDUPSID=9BD73512109ADEBC79D0E6031A361FF2; ab_jid=3401447befc2a1f1fb58e1332e7a70a45049; ab_jid=3401447befc2a1f1fb58e1332e7a70a45049; ab_jid_BFESS=3401447befc2a1f1fb58e1332e7a70a45049; BDORZ=B490B5EBF6F3CD402E515D22BCDA1598'}\n",
        "    text = requests.get(url, headers=headers, cookies=cookies,params=payload).text\n",
        "    soup = bs(text, features='lxml')\n",
        "    return soup\n",
        "\n",
        "\n",
        "def table_extractor(url, payload):\n",
        "    soup = make_soup(url,payload)\n",
        "    location = re.findall('\"housetext\":\"(.*?)\",\"indate\"', str(soup))\n",
        "    date = re.findall('\"indate\":\"(.*?)\",\"indateStr\"', str(soup))\n",
        "    low = re.findall('\"low\":(.*?),\"open\"', str(soup))\n",
        "    open_price = re.findall('\"open\":(.*?),\"remark\"', str(soup))\n",
        "    Type= re.findall('\"subTypeName\":\"(.*?)\"', str(soup))\n",
        "    average= re.findall('\"average\":(.*?),\"close\"', str(soup))\n",
        "    close= re.findall('\"close\":(.*?),\"dataid\"', str(soup))\n",
        "    deal= re.findall('\"deal\":(.*?),\"dealamount\"', str(soup))\n",
        "    dealamount= re.findall('\"dealamount\":(.*?),\"dealnum\"', str(soup))\n",
        "    dealnum= re.findall(',\"dealnum\":(.*?),\"high\"', str(soup))\n",
        "    high= re.findall('\"high\":(.*?),\"houseid\"', str(soup))\n",
        "    \n",
        "    table = pd.DataFrame({'交易所':location,\n",
        "                          '交易类型':Type,\n",
        "                          '交易日期':date,\n",
        "                          '开盘价（元）':open_price,\n",
        "                          '收盘价（元）':close,\n",
        "                          '最低价（元）':low,\n",
        "                          '最高价（元）':high,\n",
        "                          '平均价（元）':average,\n",
        "                          '成交价（元）':deal,\n",
        "                          '交易额（元）':dealamount,\n",
        "                          '交易量（吨）':dealnum\n",
        "                          }\n",
        "                          )\n",
        "    return table\n",
        "\n",
        "\n",
        "def combined_table(url,total_page):\n",
        "    Data = pd.DataFrame()\n",
        "    \n",
        "    for page in range(1,total_page+1):\n",
        "        timestamp = str(int(datetime.timestamp(datetime.now())*1000))\n",
        "        payload = {\n",
        "        'jsoncallback': 'jQuery1112009284790594066039_1627985108915',\n",
        "        'lcnK': 'f57f50a55dc99564468dba987810aaff',\n",
        "        'brand': 'TAN',\n",
        "        'page': str(page),\n",
        "        'rows': '50',\n",
        "        '_': timestamp\n",
        "        }\n",
        "        table = table_extractor(url,payload)\n",
        "        Data= Data.append(table)\n",
        "    return Data\n",
        "    \n",
        "def WriteToExcel(name, dataframe):\n",
        "    '''\n",
        "    Parameters:\n",
        "    name = name of the spreadsheet\n",
        "    dataframe = dataframe to be written into the excel spreadsheet\n",
        "    Write dataframes into excel\n",
        "    '''\n",
        "    dataframe.to_excel('Carbon trading data.xlsx')\n",
        "    files.download('Carbon trading data.xlsx')\n",
        "\n",
        "\n",
        "def main():\n",
        "    entry_page  = r'http://k.tanjiaoyi.com/#l'\n",
        "    url = r'http://k.tanjiaoyi.com:8080/KDataController/datumlist4Embed.do'\n",
        "    total_page = 3 #change the total page for how many pages you want (50 rows per page)\n",
        "    Data = combined_table(url,total_page)\n",
        "    WriteToExcel('Carbon data',Data) \n",
        "\n",
        "if __name__ == '__main__':\n",
        "    main()\n",
        "\n",
        "  \n",
        "    "
      ],
      "execution_count": 3,
      "outputs": [
        {
          "output_type": "display_data",
          "data": {
            "application/javascript": [
              "\n",
              "    async function download(id, filename, size) {\n",
              "      if (!google.colab.kernel.accessAllowed) {\n",
              "        return;\n",
              "      }\n",
              "      const div = document.createElement('div');\n",
              "      const label = document.createElement('label');\n",
              "      label.textContent = `Downloading \"${filename}\": `;\n",
              "      div.appendChild(label);\n",
              "      const progress = document.createElement('progress');\n",
              "      progress.max = size;\n",
              "      div.appendChild(progress);\n",
              "      document.body.appendChild(div);\n",
              "\n",
              "      const buffers = [];\n",
              "      let downloaded = 0;\n",
              "\n",
              "      const channel = await google.colab.kernel.comms.open(id);\n",
              "      // Send a message to notify the kernel that we're ready.\n",
              "      channel.send({})\n",
              "\n",
              "      for await (const message of channel.messages) {\n",
              "        // Send a message to notify the kernel that we're ready.\n",
              "        channel.send({})\n",
              "        if (message.buffers) {\n",
              "          for (const buffer of message.buffers) {\n",
              "            buffers.push(buffer);\n",
              "            downloaded += buffer.byteLength;\n",
              "            progress.value = downloaded;\n",
              "          }\n",
              "        }\n",
              "      }\n",
              "      const blob = new Blob(buffers, {type: 'application/binary'});\n",
              "      const a = document.createElement('a');\n",
              "      a.href = window.URL.createObjectURL(blob);\n",
              "      a.download = filename;\n",
              "      div.appendChild(a);\n",
              "      a.click();\n",
              "      div.remove();\n",
              "    }\n",
              "  "
            ],
            "text/plain": [
              "<IPython.core.display.Javascript object>"
            ]
          },
          "metadata": {
            "tags": []
          }
        },
        {
          "output_type": "display_data",
          "data": {
            "application/javascript": [
              "download(\"download_4db7adf5-8542-4000-9b6c-65611633a4b9\", \"Carbon trading data.xlsx\", 12158)"
            ],
            "text/plain": [
              "<IPython.core.display.Javascript object>"
            ]
          },
          "metadata": {
            "tags": []
          }
        }
      ]
    }
  ]
}